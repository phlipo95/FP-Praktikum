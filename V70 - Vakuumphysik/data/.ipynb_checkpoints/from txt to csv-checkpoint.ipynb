{
 "cells": [
  {
   "cell_type": "code",
   "execution_count": 51,
   "metadata": {
    "collapsed": false
   },
   "outputs": [
    {
     "name": "stdout",
     "output_type": "stream",
     "text": [
      "Leckratenmessung-15mbar-Turbopumpe\n",
      "Leckratenmessung-10mbar-Turbopumpe\n",
      "Leckratenmessung-5mbar-Turbopumpe\n",
      "p(t)-Kurve-Turbopumpe\n",
      "Leckratenmessung-0.6mbar-Drehschieberpumpe\n",
      "Leckratenmessung-0.1mbar-Drehschieberpumpe\n",
      "Leckratenmessung-0.8mbar-Drehschieberpumpe\n",
      "Leckratenmessung-0.4mbar-Drehschieberpumpe\n",
      "Leckratenmessung-20mbar-Turbopumpe\n",
      "p(t)-Kurve-Drehschieberpumpe\n",
      "Leckratenmessung-1.0mbar-Drehschieberpumpe\n"
     ]
    }
   ],
   "source": [
    "import pandas as pd\n",
    "import numpy as np\n",
    "import csv\n",
    "from os import listdir\n",
    "\n",
    "fileNames = listdir('.')\n",
    "for x in range(len(fileNames)):\n",
    "    if('.txt' in fileNames[x]):\n",
    "        data = pd.DataFrame(np.genfromtxt(fileNames[x], unpack=True))\n",
    "        print(fileNames[x].replace('.txt', ''))\n",
    "        a.to_csv(fileNames[x].replace('.txt', '')+'.csv', sep='\\t', encoding='utf-8')"
   ]
  },
  {
   "cell_type": "code",
   "execution_count": 44,
   "metadata": {
    "collapsed": false
   },
   "outputs": [
    {
     "data": {
      "text/plain": [
       "True"
      ]
     },
     "execution_count": 44,
     "metadata": {},
     "output_type": "execute_result"
    }
   ],
   "source": [
    "'.txt' in fileNames[0]"
   ]
  },
  {
   "cell_type": "code",
   "execution_count": 38,
   "metadata": {
    "collapsed": false
   },
   "outputs": [
    {
     "name": "stdout",
     "output_type": "stream",
     "text": [
      "Success!\n"
     ]
    }
   ],
   "source": [
    "if 'seek' in np.array(['those','who','seek', 'shall', 'find']):\n",
    "    print('Success!')\n",
    "else:\n",
    "    print('chip')"
   ]
  },
  {
   "cell_type": "code",
   "execution_count": null,
   "metadata": {
    "collapsed": true
   },
   "outputs": [],
   "source": []
  },
  {
   "cell_type": "code",
   "execution_count": null,
   "metadata": {
    "collapsed": true
   },
   "outputs": [],
   "source": []
  }
 ],
 "metadata": {
  "anaconda-cloud": {},
  "kernelspec": {
   "display_name": "Python [default]",
   "language": "python",
   "name": "python3"
  },
  "language_info": {
   "codemirror_mode": {
    "name": "ipython",
    "version": 3
   },
   "file_extension": ".py",
   "mimetype": "text/x-python",
   "name": "python",
   "nbconvert_exporter": "python",
   "pygments_lexer": "ipython3",
   "version": "3.5.2"
  }
 },
 "nbformat": 4,
 "nbformat_minor": 1
}
